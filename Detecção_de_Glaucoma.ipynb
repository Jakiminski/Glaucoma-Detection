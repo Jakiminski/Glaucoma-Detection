{
  "nbformat": 4,
  "nbformat_minor": 0,
  "metadata": {
    "colab": {
      "name": "Detecção de Glaucoma.ipynb",
      "provenance": []
    },
    "kernelspec": {
      "name": "python3",
      "display_name": "Python 3"
    },
    "language_info": {
      "name": "python"
    }
  },
  "cells": [
    {
      "cell_type": "markdown",
      "metadata": {
        "id": "y3wryetucP5q"
      },
      "source": [
        "# **Detecção de Glaucoma em exames de Fundoscopia**"
      ]
    },
    {
      "cell_type": "markdown",
      "metadata": {
        "id": "FjGlY68Qxl_v"
      },
      "source": [
        "# **Organizar os arquivos**"
      ]
    },
    {
      "cell_type": "code",
      "metadata": {
        "id": "CusMVAs3xoxf"
      },
      "source": [
        "import os, os.path # Miscellaneous Operating System Interfaces\n",
        "\n",
        "!pip install --upgrade pip # Update pip\n",
        "!pip install scikit-image # add scikit no projeto, para o import\n",
        "!pip install scikit-learn -U # add scikit no projeto, para o import\n",
        "!pip install -U imbalanced-learn\n",
        "\n",
        "!pip install git+https://github.com/ypeleg/nfnets-keras\n",
        "\n",
        "\n",
        "# extração do dataset no Kaggle\n",
        "!pip install kaggle\n",
        "# Chave de uma conta do Kaggle (login no Kaggle, então: Profile>Account>API, criar API token, baixando kaggle.json)\n",
        "os.environ['KAGGLE_USERNAME'] = 'jakijonas'\n",
        "os.environ['KAGGLE_KEY'] = '62658aedc8305f0d14232ab83046ea1d'\n",
        "# Extrair e Importar o Dataset do Reconhecimento de Doenças Oculares\n",
        "!kaggle datasets list -s andrewmvd/ocular-disease-recognition-odir5k # list datasets matching a search term\n",
        "# download files associated with a dataset\n",
        "!kaggle datasets download -d andrewmvd/ocular-disease-recognition-odir5k --force \n",
        "!unzip -q ocular-disease-recognition-odir5k.zip # Descompactar\n",
        "# Remover arquivos desnecessários\n",
        "!rm ocular-disease-recognition-odir5k.zip \n",
        "!rm -r -f sample_data/\n",
        "!rm -r -f preprocessed_images/\n"
      ],
      "execution_count": null,
      "outputs": []
    },
    {
      "cell_type": "code",
      "metadata": {
        "colab": {
          "base_uri": "https://localhost:8080/"
        },
        "id": "neJ9MyhdyK1a",
        "outputId": "fc8ebf57-f5cb-4b1e-d354-5b36d3294217"
      },
      "source": [
        "# Esse trecho é responsavel por organizar dentro dos arquivos corretos\n",
        "# cada imagem. Dessa forma, as imagens classificadas com\n",
        "# GLAUCOMA foram para o diretório database/1 e as imagens\n",
        "# classificadas como NORMAIS foram para o diretorio database/0\n",
        "import pandas as pd\n",
        "import shutil\n",
        "import random\n",
        "\n",
        "if (not os.path.exists('database')):\n",
        "  os.mkdir('database')\n",
        "  os.mkdir('database/0')\n",
        "  os.mkdir('database/1')\n",
        "\n",
        "col_list = ['filename', 'filepath','N','G']\n",
        "df = pd.read_csv('full_df.csv')\n",
        "df.head()\n",
        "# NO CSV, as seguintes colunas:\n",
        "# coluna [04] = filename\n",
        "# coluna [08] = NORMAL\n",
        "# coluna [10] = GLAUCOMA\n",
        "# coluna [16] = filepath\n",
        "\n",
        "itertuples = df.itertuples(name=None) \n",
        "\n",
        "#print('tamanho da itertuples:\\t{}'.format(len(df)))\n",
        "\n",
        "normal_count = 0\n",
        "glaucoma_count = 0\n",
        "\n",
        "\n",
        "for i in itertuples:\n",
        "  filename = i[4]\n",
        "  source = 'ODIR-5K/'+ i[16][43:]\n",
        "  #print('source: \\'{}\\''.format(source))\n",
        "  N = i[8]\n",
        "  G = i[10]\n",
        "\n",
        "  if(N==1):\n",
        "    normal_count += 1\n",
        "    normal_dir = 'database/0/'+str(normal_count)+filename\n",
        "    shutil.copy(source, normal_dir)\n",
        "  elif(G==1):\n",
        "    glaucoma_count += 1\n",
        "    glaucoma_dir = 'database/1/'+str(glaucoma_count)+filename\n",
        "    shutil.copy(source, glaucoma_dir)\n",
        "\n",
        "print('arquivos classe 0 (Normal):\\t{}'.format(normal_count))\n",
        "print('arquivos classe 1 (Glaucoma):\\t{}'.format(glaucoma_count))\n",
        "print('qnt total de arquivos:\\t{}'.format(normal_count + glaucoma_count))\n"
      ],
      "execution_count": null,
      "outputs": [
        {
          "name": "stdout",
          "output_type": "stream",
          "text": [
            "arquivos classe 0 (Normal):\t2101\n",
            "arquivos classe 1 (Glaucoma):\t397\n",
            "qnt total de arquivos:\t2498\n"
          ]
        }
      ]
    },
    {
      "cell_type": "code",
      "metadata": {
        "colab": {
          "base_uri": "https://localhost:8080/"
        },
        "id": "W2yu_gNyVa4w",
        "outputId": "f6efe65b-0a8a-497c-c4b3-620fb5eac45f"
      },
      "source": [
        "!ls /content/database/0 | wc -l\n",
        "!ls /content/database/1 | wc -l"
      ],
      "execution_count": null,
      "outputs": [
        {
          "name": "stdout",
          "output_type": "stream",
          "text": [
            "2101\n",
            "397\n"
          ]
        }
      ]
    }
  ]
}